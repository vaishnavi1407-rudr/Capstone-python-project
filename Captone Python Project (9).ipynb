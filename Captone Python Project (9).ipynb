{
 "cells": [
  {
   "cell_type": "markdown",
   "id": "53f10c58-dbf8-4d28-b220-cbaae69e6e1f",
   "metadata": {},
   "source": [
    "Task 1\n",
    "There are three different tables as given above. Please make three dataframe in python\n",
    "and save them as three .csv files."
   ]
  },
  {
   "cell_type": "markdown",
   "id": "badf5b8e-3f7b-4100-8422-dc8e2a244d71",
   "metadata": {},
   "source": [
    "Step 1 : Create DataFrames"
   ]
  },
  {
   "cell_type": "code",
   "execution_count": 75,
   "id": "b7430796-d64e-4f82-8897-4315869f46a7",
   "metadata": {},
   "outputs": [],
   "source": [
    "import pandas as pd\n",
    "import numpy as np"
   ]
  },
  {
   "cell_type": "code",
   "execution_count": 76,
   "id": "383cbf81-aa00-475a-b9e2-96cff007ddd1",
   "metadata": {},
   "outputs": [],
   "source": [
    "# 1. Project DataFrame (14 projects with repeated IDs)\n",
    "project_data = {\n",
    "    'ID': ['A001', 'A002', 'A003', 'A004', 'A005', 'A002', 'A005',\n",
    "           'A003', 'A001', 'A003', 'A001', 'A004', 'A004', 'A005'],\n",
    "    'Project': ['Project 1', 'Project 2', 'Project 3', 'Project 4', 'Project 5',\n",
    "                'Project 6', 'Project 7', 'Project 8', 'Project 9', 'Project 10',\n",
    "                'Project 11', 'Project 12', 'Project 13', 'Project 14'],\n",
    "    'Cost': [1002000, 2000000, 4500000, 5500000,None,680000,400000,350000,None,\n",
    "             300000,2000000,1000000,3000000,200000],\n",
    "    'Status': ['Finished', 'Ongoing', 'Finished', 'Ongoing', 'Finished',\n",
    "               'Failed', 'Finished','Failed','Ongoing', 'Finished',\n",
    "               'Failed', 'Ongoing', 'Finished', 'Finished']\n",
    "}\n",
    "project_df = pd.DataFrame(project_data)\n"
   ]
  },
  {
   "cell_type": "code",
   "execution_count": 77,
   "id": "cdf7d8d9-d77c-4ba8-8fe8-c4333793ec9f",
   "metadata": {},
   "outputs": [],
   "source": [
    "# 2. Employee DataFrame\n",
    "employee_data = {\n",
    "    'ID': ['A001', 'A002', 'A003', 'A004', 'A005'],\n",
    "    'Name': ['John Alter', 'Alice Luxumberg', 'Tom Sabestine', 'Nina Adgra', 'Amy Johny'],\n",
    "    'Gender': ['M', 'F', 'M', 'F', 'F'],\n",
    "    'City': ['Paris', 'London', 'Berlin', 'Newyork', 'Madrid'],\n",
    "    'Age': [25, 27, 29, 31, 30]\n",
    "}\n",
    "employee_df = pd.DataFrame(employee_data)"
   ]
  },
  {
   "cell_type": "code",
   "execution_count": 78,
   "id": "fa848e13-864c-4a71-9427-d22b7461951c",
   "metadata": {},
   "outputs": [],
   "source": [
    "# 3. Seniority Level DataFrame\n",
    "seniority_data = {\n",
    "    'ID': ['A001', 'A002', 'A003', 'A004', 'A005'],\n",
    "    'Designation Level': [2, 2, 3, 2, 3]\n",
    "}\n",
    "seniority_df = pd.DataFrame(seniority_data)"
   ]
  },
  {
   "cell_type": "markdown",
   "id": "5c5489dd-801e-4ea7-a8aa-281bffb61095",
   "metadata": {},
   "source": [
    "Step 2 : Save as CSV Files"
   ]
  },
  {
   "cell_type": "code",
   "execution_count": 79,
   "id": "8c1179d9-3af6-4583-be4a-e961d390d0e9",
   "metadata": {},
   "outputs": [],
   "source": [
    "project_df.to_csv('project.csv', index=False)"
   ]
  },
  {
   "cell_type": "code",
   "execution_count": 80,
   "id": "458eb2be-417f-4f84-8423-985e29b14144",
   "metadata": {},
   "outputs": [],
   "source": [
    "employee_df.to_csv('employee.csv', index=False)"
   ]
  },
  {
   "cell_type": "code",
   "execution_count": 81,
   "id": "9ce06a0c-4c85-4572-b314-01efee67751a",
   "metadata": {},
   "outputs": [],
   "source": [
    "seniority_df.to_csv('seniority.csv', index=False)"
   ]
  },
  {
   "cell_type": "markdown",
   "id": "42d7db30-7b7c-4cf2-951d-6bfa1e4a4f25",
   "metadata": {},
   "source": [
    "Task 2\n",
    "The cost column in the dataframe “Project” has some missing values. Your task is to\n",
    "compute these missing values. Replace the missing values by running average. You\n",
    "should use the “For” loop for this task.\n"
   ]
  },
  {
   "cell_type": "code",
   "execution_count": 82,
   "id": "aba3352d-e97a-4020-9303-8ef32d0844a5",
   "metadata": {},
   "outputs": [],
   "source": [
    "#read project table\n",
    "df = pd.read_csv(\"project.csv\")"
   ]
  },
  {
   "cell_type": "code",
   "execution_count": 83,
   "id": "7589a134-b3fa-4449-824e-2bf8935bd367",
   "metadata": {},
   "outputs": [
    {
     "name": "stdout",
     "output_type": "stream",
     "text": [
      "      ID     Project       Cost    Status\n",
      "0   A001   Project 1  1002000.0  Finished\n",
      "1   A002   Project 2  2000000.0   Ongoing\n",
      "2   A003   Project 3  4500000.0  Finished\n",
      "3   A004   Project 4  5500000.0   Ongoing\n",
      "4   A005   Project 5        NaN  Finished\n",
      "5   A002   Project 6   680000.0    Failed\n",
      "6   A005   Project 7   400000.0  Finished\n",
      "7   A003   Project 8   350000.0    Failed\n",
      "8   A001   Project 9        NaN   Ongoing\n",
      "9   A003  Project 10   300000.0  Finished\n",
      "10  A001  Project 11  2000000.0    Failed\n",
      "11  A004  Project 12  1000000.0   Ongoing\n",
      "12  A004  Project 13  3000000.0  Finished\n",
      "13  A005  Project 14   200000.0  Finished\n"
     ]
    }
   ],
   "source": [
    "print(df)"
   ]
  },
  {
   "cell_type": "code",
   "execution_count": 84,
   "id": "3f4d638d-66c5-4752-af44-6eb611c70ed4",
   "metadata": {},
   "outputs": [
    {
     "name": "stdout",
     "output_type": "stream",
     "text": [
      "<bound method DataFrame.sum of        ID  Project   Cost  Status\n",
      "0   False    False  False   False\n",
      "1   False    False  False   False\n",
      "2   False    False  False   False\n",
      "3   False    False  False   False\n",
      "4   False    False   True   False\n",
      "5   False    False  False   False\n",
      "6   False    False  False   False\n",
      "7   False    False  False   False\n",
      "8   False    False   True   False\n",
      "9   False    False  False   False\n",
      "10  False    False  False   False\n",
      "11  False    False  False   False\n",
      "12  False    False  False   False\n",
      "13  False    False  False   False>\n"
     ]
    }
   ],
   "source": [
    "#see a missing values\n",
    "print(df.isnull().sum)"
   ]
  },
  {
   "cell_type": "code",
   "execution_count": 85,
   "id": "25f80538-0615-480e-a60e-b5f9e6f25c25",
   "metadata": {},
   "outputs": [],
   "source": [
    "# Replace the missing values by running average. \n",
    "total = 0\n",
    "count = 0\n",
    "\n",
    "for i in range(len(df)):\n",
    "    if pd.isna(df.loc[i, 'Cost']):\n",
    "        if count == 0:\n",
    "            df.loc[i, 'Cost'] = 0  # if all previous are NaN\n",
    "        else:\n",
    "            df.loc[i, 'Cost'] = total / count\n",
    "    total += df.loc[i, 'Cost']\n",
    "    count += 1"
   ]
  },
  {
   "cell_type": "code",
   "execution_count": 86,
   "id": "db9cd887-92d6-40de-89f6-fe0995061158",
   "metadata": {},
   "outputs": [
    {
     "name": "stdout",
     "output_type": "stream",
     "text": [
      "      ID     Project       Cost    Status\n",
      "0   A001   Project 1  1002000.0  Finished\n",
      "1   A002   Project 2  2000000.0   Ongoing\n",
      "2   A003   Project 3  4500000.0  Finished\n",
      "3   A004   Project 4  5500000.0   Ongoing\n",
      "4   A005   Project 5  3250500.0  Finished\n",
      "5   A002   Project 6   680000.0    Failed\n",
      "6   A005   Project 7   400000.0  Finished\n",
      "7   A003   Project 8   350000.0    Failed\n",
      "8   A001   Project 9  2210312.5   Ongoing\n",
      "9   A003  Project 10   300000.0  Finished\n",
      "10  A001  Project 11  2000000.0    Failed\n",
      "11  A004  Project 12  1000000.0   Ongoing\n",
      "12  A004  Project 13  3000000.0  Finished\n",
      "13  A005  Project 14   200000.0  Finished\n"
     ]
    }
   ],
   "source": [
    "print(df)"
   ]
  },
  {
   "cell_type": "markdown",
   "id": "5f617e23-cd2d-4c59-85e1-037beb5b76a6",
   "metadata": {},
   "source": [
    "Task 3\n",
    "Split the name column in the Employee dataframe into two new columns “First Name”,\n",
    "and “LastName” and remove the older “name” column.b"
   ]
  },
  {
   "cell_type": "code",
   "execution_count": 87,
   "id": "0fb167e7-3d23-4f00-a7c2-a3e7fd37afdb",
   "metadata": {},
   "outputs": [],
   "source": [
    "# Read employee table\n",
    "df1 = pd.read_csv(\"employee.csv\")"
   ]
  },
  {
   "cell_type": "code",
   "execution_count": 88,
   "id": "8fc355cc-2a5b-4ed9-8f80-159d071b7975",
   "metadata": {},
   "outputs": [
    {
     "name": "stdout",
     "output_type": "stream",
     "text": [
      "     ID             Name Gender     City  Age\n",
      "0  A001       John Alter      M    Paris   25\n",
      "1  A002  Alice Luxumberg      F   London   27\n",
      "2  A003    Tom Sabestine      M   Berlin   29\n",
      "3  A004       Nina Adgra      F  Newyork   31\n",
      "4  A005        Amy Johny      F   Madrid   30\n"
     ]
    }
   ],
   "source": [
    "print(df1)"
   ]
  },
  {
   "cell_type": "code",
   "execution_count": 89,
   "id": "59173dda-3498-4b37-bc1d-a862bf6cc25f",
   "metadata": {},
   "outputs": [],
   "source": [
    "#Split the name column in the Employee dataframe into two new columns “First Name”, and “LastName” \n",
    "df1[['First_Name', 'Last_Name']] = df1['Name'].str.split(' ',n=1, expand=True)"
   ]
  },
  {
   "cell_type": "code",
   "execution_count": 90,
   "id": "92c9fad8-64a2-470e-908a-03268c5c857c",
   "metadata": {},
   "outputs": [
    {
     "name": "stdout",
     "output_type": "stream",
     "text": [
      "     ID             Name Gender     City  Age First_Name  Last_Name\n",
      "0  A001       John Alter      M    Paris   25       John      Alter\n",
      "1  A002  Alice Luxumberg      F   London   27      Alice  Luxumberg\n",
      "2  A003    Tom Sabestine      M   Berlin   29        Tom  Sabestine\n",
      "3  A004       Nina Adgra      F  Newyork   31       Nina      Adgra\n",
      "4  A005        Amy Johny      F   Madrid   30        Amy      Johny\n"
     ]
    }
   ],
   "source": [
    "print(df1)"
   ]
  },
  {
   "cell_type": "code",
   "execution_count": 91,
   "id": "47eac2cb-ed09-410d-b440-2e018e913fa8",
   "metadata": {},
   "outputs": [],
   "source": [
    "#remove the older “name” column\n",
    "df1.drop(columns = [\"Name\"],inplace = True)"
   ]
  },
  {
   "cell_type": "code",
   "execution_count": 92,
   "id": "b0e8dd71-d831-45a1-a63e-f41fe398c1c7",
   "metadata": {},
   "outputs": [
    {
     "name": "stdout",
     "output_type": "stream",
     "text": [
      "     ID Gender     City  Age First_Name  Last_Name\n",
      "0  A001      M    Paris   25       John      Alter\n",
      "1  A002      F   London   27      Alice  Luxumberg\n",
      "2  A003      M   Berlin   29        Tom  Sabestine\n",
      "3  A004      F  Newyork   31       Nina      Adgra\n",
      "4  A005      F   Madrid   30        Amy      Johny\n"
     ]
    }
   ],
   "source": [
    "print(df1)"
   ]
  },
  {
   "cell_type": "markdown",
   "id": "0f5a3b3a-a71c-4b05-8680-2d311fe3782b",
   "metadata": {},
   "source": [
    "Task 4\n",
    "Join all three dataframes in one single dataframe. Name it “Final”\n"
   ]
  },
  {
   "cell_type": "code",
   "execution_count": 93,
   "id": "ce6daa43-8c1e-4a5e-b5d0-b4ce96aa9e1a",
   "metadata": {},
   "outputs": [],
   "source": [
    "# read \"seniority\"\n",
    "df2 = pd.read_csv(\"seniority.csv\")"
   ]
  },
  {
   "cell_type": "code",
   "execution_count": 94,
   "id": "865c2f46-3a26-4456-b035-2baef61a3e09",
   "metadata": {},
   "outputs": [
    {
     "name": "stdout",
     "output_type": "stream",
     "text": [
      "     ID  Designation Level\n",
      "0  A001                  2\n",
      "1  A002                  2\n",
      "2  A003                  3\n",
      "3  A004                  2\n",
      "4  A005                  3\n"
     ]
    }
   ],
   "source": [
    "print(df2)"
   ]
  },
  {
   "cell_type": "code",
   "execution_count": 95,
   "id": "1f2bf2d2-80e5-4f23-b892-a10cb9e2cfa3",
   "metadata": {},
   "outputs": [],
   "source": [
    "# join project and employee table in one table by using left join\n",
    "Merge = pd.merge(df,df1, on = \"ID\", how= \"left\")"
   ]
  },
  {
   "cell_type": "code",
   "execution_count": 96,
   "id": "c176c94d-a116-44d7-80a8-69899801f068",
   "metadata": {},
   "outputs": [],
   "source": [
    "# After join project and employee table we join seniority table\n",
    "Final = pd.merge(Merge,df2, on = \"ID\", how= \"left\")"
   ]
  },
  {
   "cell_type": "code",
   "execution_count": 97,
   "id": "158d5740-ac99-4443-9be0-d9f4f38d0261",
   "metadata": {},
   "outputs": [
    {
     "name": "stdout",
     "output_type": "stream",
     "text": [
      "      ID     Project       Cost    Status Gender     City  Age First_Name  \\\n",
      "0   A001   Project 1  1002000.0  Finished      M    Paris   25       John   \n",
      "1   A002   Project 2  2000000.0   Ongoing      F   London   27      Alice   \n",
      "2   A003   Project 3  4500000.0  Finished      M   Berlin   29        Tom   \n",
      "3   A004   Project 4  5500000.0   Ongoing      F  Newyork   31       Nina   \n",
      "4   A005   Project 5  3250500.0  Finished      F   Madrid   30        Amy   \n",
      "5   A002   Project 6   680000.0    Failed      F   London   27      Alice   \n",
      "6   A005   Project 7   400000.0  Finished      F   Madrid   30        Amy   \n",
      "7   A003   Project 8   350000.0    Failed      M   Berlin   29        Tom   \n",
      "8   A001   Project 9  2210312.5   Ongoing      M    Paris   25       John   \n",
      "9   A003  Project 10   300000.0  Finished      M   Berlin   29        Tom   \n",
      "10  A001  Project 11  2000000.0    Failed      M    Paris   25       John   \n",
      "11  A004  Project 12  1000000.0   Ongoing      F  Newyork   31       Nina   \n",
      "12  A004  Project 13  3000000.0  Finished      F  Newyork   31       Nina   \n",
      "13  A005  Project 14   200000.0  Finished      F   Madrid   30        Amy   \n",
      "\n",
      "    Last_Name  Designation Level  \n",
      "0       Alter                  2  \n",
      "1   Luxumberg                  2  \n",
      "2   Sabestine                  3  \n",
      "3       Adgra                  2  \n",
      "4       Johny                  3  \n",
      "5   Luxumberg                  2  \n",
      "6       Johny                  3  \n",
      "7   Sabestine                  3  \n",
      "8       Alter                  2  \n",
      "9   Sabestine                  3  \n",
      "10      Alter                  2  \n",
      "11      Adgra                  2  \n",
      "12      Adgra                  2  \n",
      "13      Johny                  3  \n"
     ]
    }
   ],
   "source": [
    "print(Final)"
   ]
  },
  {
   "cell_type": "markdown",
   "id": "047456cd-184e-4fb3-a316-eec4ceaf4088",
   "metadata": {},
   "source": [
    "Task 5\n",
    "Add a new bonus column in the Final dataframe. Give a 5% bonus concerning project\n",
    "cost only to employees who have finished the projects."
   ]
  },
  {
   "cell_type": "code",
   "execution_count": 98,
   "id": "ac9a8070-0320-45b9-81de-8266dbb57a57",
   "metadata": {},
   "outputs": [],
   "source": [
    "# Add a new bonus column in the Final dataframe.\n",
    "Final[\"Bonus\"] = Final.apply(lambda Final:Final[\"Cost\"]*0.05 #5% bonus \n",
    "if Final[\"Status\"] == \"Finished\"\n",
    "else \"No Bonus\",axis = 1)"
   ]
  },
  {
   "cell_type": "code",
   "execution_count": 99,
   "id": "c1c441d6-c98a-49af-962e-adb1ef6186bd",
   "metadata": {},
   "outputs": [
    {
     "name": "stdout",
     "output_type": "stream",
     "text": [
      "      ID     Project       Cost    Status Gender     City  Age First_Name  \\\n",
      "0   A001   Project 1  1002000.0  Finished      M    Paris   25       John   \n",
      "1   A002   Project 2  2000000.0   Ongoing      F   London   27      Alice   \n",
      "2   A003   Project 3  4500000.0  Finished      M   Berlin   29        Tom   \n",
      "3   A004   Project 4  5500000.0   Ongoing      F  Newyork   31       Nina   \n",
      "4   A005   Project 5  3250500.0  Finished      F   Madrid   30        Amy   \n",
      "5   A002   Project 6   680000.0    Failed      F   London   27      Alice   \n",
      "6   A005   Project 7   400000.0  Finished      F   Madrid   30        Amy   \n",
      "7   A003   Project 8   350000.0    Failed      M   Berlin   29        Tom   \n",
      "8   A001   Project 9  2210312.5   Ongoing      M    Paris   25       John   \n",
      "9   A003  Project 10   300000.0  Finished      M   Berlin   29        Tom   \n",
      "10  A001  Project 11  2000000.0    Failed      M    Paris   25       John   \n",
      "11  A004  Project 12  1000000.0   Ongoing      F  Newyork   31       Nina   \n",
      "12  A004  Project 13  3000000.0  Finished      F  Newyork   31       Nina   \n",
      "13  A005  Project 14   200000.0  Finished      F   Madrid   30        Amy   \n",
      "\n",
      "    Last_Name  Designation Level     Bonus  \n",
      "0       Alter                  2   50100.0  \n",
      "1   Luxumberg                  2  No Bonus  \n",
      "2   Sabestine                  3  225000.0  \n",
      "3       Adgra                  2  No Bonus  \n",
      "4       Johny                  3  162525.0  \n",
      "5   Luxumberg                  2  No Bonus  \n",
      "6       Johny                  3   20000.0  \n",
      "7   Sabestine                  3  No Bonus  \n",
      "8       Alter                  2  No Bonus  \n",
      "9   Sabestine                  3   15000.0  \n",
      "10      Alter                  2  No Bonus  \n",
      "11      Adgra                  2  No Bonus  \n",
      "12      Adgra                  2  150000.0  \n",
      "13      Johny                  3   10000.0  \n"
     ]
    }
   ],
   "source": [
    "print(Final)"
   ]
  },
  {
   "cell_type": "markdown",
   "id": "a4c90d75-73a6-46d6-ab5d-2c5374a421d2",
   "metadata": {},
   "source": [
    "Task 6\n",
    "Demote the designation level by 1, whose projects have status “fail”. Delete the\n",
    "employees record whose designation level is above 4.\n"
   ]
  },
  {
   "cell_type": "code",
   "execution_count": 100,
   "id": "8c57a365-de1d-4e52-b4b5-47684fa30845",
   "metadata": {},
   "outputs": [],
   "source": [
    "#Demote by 1 where Status if \"Failed\"\n",
    "Final[\"Designation Level\"] = Final.apply(lambda Final: Final[\"Designation Level\"] - 1\n",
    "if Final[\"Status\"] == \"Failed\"\n",
    "else Final[\"Designation Level\"], axis = 1)"
   ]
  },
  {
   "cell_type": "code",
   "execution_count": 101,
   "id": "10140273-133c-46e8-8f25-9d91c1a41995",
   "metadata": {},
   "outputs": [
    {
     "name": "stdout",
     "output_type": "stream",
     "text": [
      "      ID     Project       Cost    Status Gender     City  Age First_Name  \\\n",
      "0   A001   Project 1  1002000.0  Finished      M    Paris   25       John   \n",
      "1   A002   Project 2  2000000.0   Ongoing      F   London   27      Alice   \n",
      "2   A003   Project 3  4500000.0  Finished      M   Berlin   29        Tom   \n",
      "3   A004   Project 4  5500000.0   Ongoing      F  Newyork   31       Nina   \n",
      "4   A005   Project 5  3250500.0  Finished      F   Madrid   30        Amy   \n",
      "5   A002   Project 6   680000.0    Failed      F   London   27      Alice   \n",
      "6   A005   Project 7   400000.0  Finished      F   Madrid   30        Amy   \n",
      "7   A003   Project 8   350000.0    Failed      M   Berlin   29        Tom   \n",
      "8   A001   Project 9  2210312.5   Ongoing      M    Paris   25       John   \n",
      "9   A003  Project 10   300000.0  Finished      M   Berlin   29        Tom   \n",
      "10  A001  Project 11  2000000.0    Failed      M    Paris   25       John   \n",
      "11  A004  Project 12  1000000.0   Ongoing      F  Newyork   31       Nina   \n",
      "12  A004  Project 13  3000000.0  Finished      F  Newyork   31       Nina   \n",
      "13  A005  Project 14   200000.0  Finished      F   Madrid   30        Amy   \n",
      "\n",
      "    Last_Name  Designation Level     Bonus  \n",
      "0       Alter                  2   50100.0  \n",
      "1   Luxumberg                  2  No Bonus  \n",
      "2   Sabestine                  3  225000.0  \n",
      "3       Adgra                  2  No Bonus  \n",
      "4       Johny                  3  162525.0  \n",
      "5   Luxumberg                  1  No Bonus  \n",
      "6       Johny                  3   20000.0  \n",
      "7   Sabestine                  2  No Bonus  \n",
      "8       Alter                  2  No Bonus  \n",
      "9   Sabestine                  3   15000.0  \n",
      "10      Alter                  1  No Bonus  \n",
      "11      Adgra                  2  No Bonus  \n",
      "12      Adgra                  2  150000.0  \n",
      "13      Johny                  3   10000.0  \n"
     ]
    }
   ],
   "source": [
    "print(Final)"
   ]
  },
  {
   "cell_type": "code",
   "execution_count": 102,
   "id": "4951e762-4573-4920-b834-86d753c73e64",
   "metadata": {},
   "outputs": [],
   "source": [
    "# Delete the employees record whose designation level is above 4.\n",
    "Final = Final[Final[\"Designation Level\"] <= 4]"
   ]
  },
  {
   "cell_type": "code",
   "execution_count": 103,
   "id": "1f02236f-f551-4d81-a066-ede5af9d82ba",
   "metadata": {},
   "outputs": [
    {
     "name": "stdout",
     "output_type": "stream",
     "text": [
      "      ID     Project       Cost    Status Gender     City  Age First_Name  \\\n",
      "0   A001   Project 1  1002000.0  Finished      M    Paris   25       John   \n",
      "1   A002   Project 2  2000000.0   Ongoing      F   London   27      Alice   \n",
      "2   A003   Project 3  4500000.0  Finished      M   Berlin   29        Tom   \n",
      "3   A004   Project 4  5500000.0   Ongoing      F  Newyork   31       Nina   \n",
      "4   A005   Project 5  3250500.0  Finished      F   Madrid   30        Amy   \n",
      "5   A002   Project 6   680000.0    Failed      F   London   27      Alice   \n",
      "6   A005   Project 7   400000.0  Finished      F   Madrid   30        Amy   \n",
      "7   A003   Project 8   350000.0    Failed      M   Berlin   29        Tom   \n",
      "8   A001   Project 9  2210312.5   Ongoing      M    Paris   25       John   \n",
      "9   A003  Project 10   300000.0  Finished      M   Berlin   29        Tom   \n",
      "10  A001  Project 11  2000000.0    Failed      M    Paris   25       John   \n",
      "11  A004  Project 12  1000000.0   Ongoing      F  Newyork   31       Nina   \n",
      "12  A004  Project 13  3000000.0  Finished      F  Newyork   31       Nina   \n",
      "13  A005  Project 14   200000.0  Finished      F   Madrid   30        Amy   \n",
      "\n",
      "    Last_Name  Designation Level     Bonus  \n",
      "0       Alter                  2   50100.0  \n",
      "1   Luxumberg                  2  No Bonus  \n",
      "2   Sabestine                  3  225000.0  \n",
      "3       Adgra                  2  No Bonus  \n",
      "4       Johny                  3  162525.0  \n",
      "5   Luxumberg                  1  No Bonus  \n",
      "6       Johny                  3   20000.0  \n",
      "7   Sabestine                  2  No Bonus  \n",
      "8       Alter                  2  No Bonus  \n",
      "9   Sabestine                  3   15000.0  \n",
      "10      Alter                  1  No Bonus  \n",
      "11      Adgra                  2  No Bonus  \n",
      "12      Adgra                  2  150000.0  \n",
      "13      Johny                  3   10000.0  \n"
     ]
    }
   ],
   "source": [
    "print(Final)"
   ]
  },
  {
   "cell_type": "markdown",
   "id": "6a7a4a62-a25c-47a8-89d0-c56fe8662085",
   "metadata": {},
   "source": [
    "Task 7\n",
    "Add “Mr.” and “Mrs.” to the first name column and drop the gender column."
   ]
  },
  {
   "cell_type": "code",
   "execution_count": 104,
   "id": "68bfd6df-4816-4bae-9b60-ec67dd6f5f90",
   "metadata": {},
   "outputs": [],
   "source": [
    "#Add “Mr.” and “Mrs.” to the first name column\n",
    "Final[\"First_Name\"] = Final.apply(\n",
    "    lambda Final: \"Mr. \" + Final[\"First_Name\"] if Final[\"Gender\"] == \"M\" else \"Mrs. \" + Final[\"First_Name\"],\n",
    "    axis=1\n",
    ")"
   ]
  },
  {
   "cell_type": "code",
   "execution_count": 105,
   "id": "d1e9d414-cfe7-45c2-83c5-6ee5380a62b2",
   "metadata": {},
   "outputs": [
    {
     "name": "stdout",
     "output_type": "stream",
     "text": [
      "      ID     Project       Cost    Status Gender     City  Age  First_Name  \\\n",
      "0   A001   Project 1  1002000.0  Finished      M    Paris   25    Mr. John   \n",
      "1   A002   Project 2  2000000.0   Ongoing      F   London   27  Mrs. Alice   \n",
      "2   A003   Project 3  4500000.0  Finished      M   Berlin   29     Mr. Tom   \n",
      "3   A004   Project 4  5500000.0   Ongoing      F  Newyork   31   Mrs. Nina   \n",
      "4   A005   Project 5  3250500.0  Finished      F   Madrid   30    Mrs. Amy   \n",
      "5   A002   Project 6   680000.0    Failed      F   London   27  Mrs. Alice   \n",
      "6   A005   Project 7   400000.0  Finished      F   Madrid   30    Mrs. Amy   \n",
      "7   A003   Project 8   350000.0    Failed      M   Berlin   29     Mr. Tom   \n",
      "8   A001   Project 9  2210312.5   Ongoing      M    Paris   25    Mr. John   \n",
      "9   A003  Project 10   300000.0  Finished      M   Berlin   29     Mr. Tom   \n",
      "10  A001  Project 11  2000000.0    Failed      M    Paris   25    Mr. John   \n",
      "11  A004  Project 12  1000000.0   Ongoing      F  Newyork   31   Mrs. Nina   \n",
      "12  A004  Project 13  3000000.0  Finished      F  Newyork   31   Mrs. Nina   \n",
      "13  A005  Project 14   200000.0  Finished      F   Madrid   30    Mrs. Amy   \n",
      "\n",
      "    Last_Name  Designation Level     Bonus  \n",
      "0       Alter                  2   50100.0  \n",
      "1   Luxumberg                  2  No Bonus  \n",
      "2   Sabestine                  3  225000.0  \n",
      "3       Adgra                  2  No Bonus  \n",
      "4       Johny                  3  162525.0  \n",
      "5   Luxumberg                  1  No Bonus  \n",
      "6       Johny                  3   20000.0  \n",
      "7   Sabestine                  2  No Bonus  \n",
      "8       Alter                  2  No Bonus  \n",
      "9   Sabestine                  3   15000.0  \n",
      "10      Alter                  1  No Bonus  \n",
      "11      Adgra                  2  No Bonus  \n",
      "12      Adgra                  2  150000.0  \n",
      "13      Johny                  3   10000.0  \n"
     ]
    }
   ],
   "source": [
    "print(Final)"
   ]
  },
  {
   "cell_type": "code",
   "execution_count": 106,
   "id": "dbb127bf-9654-4f4e-8e7b-9ed3b7890993",
   "metadata": {},
   "outputs": [],
   "source": [
    "#drop the gender column.\n",
    "Final.drop(\"Gender\", axis=1, inplace=True)"
   ]
  },
  {
   "cell_type": "code",
   "execution_count": 107,
   "id": "ce8fdb68-3707-4ddf-a475-0518559e4418",
   "metadata": {},
   "outputs": [
    {
     "name": "stdout",
     "output_type": "stream",
     "text": [
      "      ID     Project       Cost    Status     City  Age  First_Name  \\\n",
      "0   A001   Project 1  1002000.0  Finished    Paris   25    Mr. John   \n",
      "1   A002   Project 2  2000000.0   Ongoing   London   27  Mrs. Alice   \n",
      "2   A003   Project 3  4500000.0  Finished   Berlin   29     Mr. Tom   \n",
      "3   A004   Project 4  5500000.0   Ongoing  Newyork   31   Mrs. Nina   \n",
      "4   A005   Project 5  3250500.0  Finished   Madrid   30    Mrs. Amy   \n",
      "5   A002   Project 6   680000.0    Failed   London   27  Mrs. Alice   \n",
      "6   A005   Project 7   400000.0  Finished   Madrid   30    Mrs. Amy   \n",
      "7   A003   Project 8   350000.0    Failed   Berlin   29     Mr. Tom   \n",
      "8   A001   Project 9  2210312.5   Ongoing    Paris   25    Mr. John   \n",
      "9   A003  Project 10   300000.0  Finished   Berlin   29     Mr. Tom   \n",
      "10  A001  Project 11  2000000.0    Failed    Paris   25    Mr. John   \n",
      "11  A004  Project 12  1000000.0   Ongoing  Newyork   31   Mrs. Nina   \n",
      "12  A004  Project 13  3000000.0  Finished  Newyork   31   Mrs. Nina   \n",
      "13  A005  Project 14   200000.0  Finished   Madrid   30    Mrs. Amy   \n",
      "\n",
      "    Last_Name  Designation Level     Bonus  \n",
      "0       Alter                  2   50100.0  \n",
      "1   Luxumberg                  2  No Bonus  \n",
      "2   Sabestine                  3  225000.0  \n",
      "3       Adgra                  2  No Bonus  \n",
      "4       Johny                  3  162525.0  \n",
      "5   Luxumberg                  1  No Bonus  \n",
      "6       Johny                  3   20000.0  \n",
      "7   Sabestine                  2  No Bonus  \n",
      "8       Alter                  2  No Bonus  \n",
      "9   Sabestine                  3   15000.0  \n",
      "10      Alter                  1  No Bonus  \n",
      "11      Adgra                  2  No Bonus  \n",
      "12      Adgra                  2  150000.0  \n",
      "13      Johny                  3   10000.0  \n"
     ]
    }
   ],
   "source": [
    "print(Final)"
   ]
  },
  {
   "cell_type": "markdown",
   "id": "718c732d-ff98-4395-96db-503fa20fc3b9",
   "metadata": {},
   "source": [
    "Task 8\n",
    "Promote designation level by 1 for the employees whose age is more than 29 years using\n",
    "IF condition."
   ]
  },
  {
   "cell_type": "code",
   "execution_count": 108,
   "id": "d7cb2a5a-275f-44ae-9680-f11a631a935c",
   "metadata": {},
   "outputs": [],
   "source": [
    "#Promote designation level by 1 for the employees whose age is more than 29 years\n",
    "Final[\"Designation Level\"] = Final.apply(lambda Final: Final[\"Designation Level\"] + 1\n",
    "if Final[\"Age\"] >= 29\n",
    "else Final[\"Designation Level\"], axis = 1)"
   ]
  },
  {
   "cell_type": "code",
   "execution_count": 109,
   "id": "8e774b57-3f18-472a-9dad-c14e02c4430a",
   "metadata": {},
   "outputs": [
    {
     "name": "stdout",
     "output_type": "stream",
     "text": [
      "      ID     Project       Cost    Status     City  Age  First_Name  \\\n",
      "0   A001   Project 1  1002000.0  Finished    Paris   25    Mr. John   \n",
      "1   A002   Project 2  2000000.0   Ongoing   London   27  Mrs. Alice   \n",
      "2   A003   Project 3  4500000.0  Finished   Berlin   29     Mr. Tom   \n",
      "3   A004   Project 4  5500000.0   Ongoing  Newyork   31   Mrs. Nina   \n",
      "4   A005   Project 5  3250500.0  Finished   Madrid   30    Mrs. Amy   \n",
      "5   A002   Project 6   680000.0    Failed   London   27  Mrs. Alice   \n",
      "6   A005   Project 7   400000.0  Finished   Madrid   30    Mrs. Amy   \n",
      "7   A003   Project 8   350000.0    Failed   Berlin   29     Mr. Tom   \n",
      "8   A001   Project 9  2210312.5   Ongoing    Paris   25    Mr. John   \n",
      "9   A003  Project 10   300000.0  Finished   Berlin   29     Mr. Tom   \n",
      "10  A001  Project 11  2000000.0    Failed    Paris   25    Mr. John   \n",
      "11  A004  Project 12  1000000.0   Ongoing  Newyork   31   Mrs. Nina   \n",
      "12  A004  Project 13  3000000.0  Finished  Newyork   31   Mrs. Nina   \n",
      "13  A005  Project 14   200000.0  Finished   Madrid   30    Mrs. Amy   \n",
      "\n",
      "    Last_Name  Designation Level     Bonus  \n",
      "0       Alter                  2   50100.0  \n",
      "1   Luxumberg                  2  No Bonus  \n",
      "2   Sabestine                  4  225000.0  \n",
      "3       Adgra                  3  No Bonus  \n",
      "4       Johny                  4  162525.0  \n",
      "5   Luxumberg                  1  No Bonus  \n",
      "6       Johny                  4   20000.0  \n",
      "7   Sabestine                  3  No Bonus  \n",
      "8       Alter                  2  No Bonus  \n",
      "9   Sabestine                  4   15000.0  \n",
      "10      Alter                  1  No Bonus  \n",
      "11      Adgra                  3  No Bonus  \n",
      "12      Adgra                  3  150000.0  \n",
      "13      Johny                  4   10000.0  \n"
     ]
    }
   ],
   "source": [
    "print(Final)"
   ]
  },
  {
   "cell_type": "markdown",
   "id": "07a65822-aa45-4f33-8cfb-4fa43907d384",
   "metadata": {},
   "source": [
    "Task 9\n",
    "Add the cost of all projects for each Employee and save it in new dataframe\n",
    "“TotalProjCost” with three columns ID, First Name, and Total cos"
   ]
  },
  {
   "cell_type": "code",
   "execution_count": 110,
   "id": "50e5a7ed-72ab-46dc-b7a6-55cd46dc9ab6",
   "metadata": {},
   "outputs": [],
   "source": [
    "# the cost of all projects for each Employee\n",
    "# by using group by we find it\n",
    "TotalProjCost = Final.groupby([\"ID\",\"First_Name\"])[\"Cost\"].sum().rename(\"Total cos\")"
   ]
  },
  {
   "cell_type": "code",
   "execution_count": 111,
   "id": "4b7eb50c-348c-4455-a5fa-27299c9152eb",
   "metadata": {},
   "outputs": [
    {
     "name": "stdout",
     "output_type": "stream",
     "text": [
      "ID    First_Name\n",
      "A001  Mr. John      5212312.5\n",
      "A002  Mrs. Alice    2680000.0\n",
      "A003  Mr. Tom       5150000.0\n",
      "A004  Mrs. Nina     9500000.0\n",
      "A005  Mrs. Amy      3850500.0\n",
      "Name: Total cos, dtype: float64\n"
     ]
    }
   ],
   "source": [
    "print(TotalProjCost)"
   ]
  },
  {
   "cell_type": "markdown",
   "id": "b8d4148f-35d2-493e-85ee-291012e9c61f",
   "metadata": {},
   "source": [
    "Task 10\n",
    "Print all the employee details whose city name contains the letter “o” in it."
   ]
  },
  {
   "cell_type": "code",
   "execution_count": 112,
   "id": "363e757f-51fe-42c1-a604-e8453b602f6b",
   "metadata": {},
   "outputs": [],
   "source": [
    "#all the employee details whose city name contains the letter “o” in it.\n",
    "Employees_city = Final[Final['City'].str.contains('o', case=False, na=False)][[\"ID\",\"First_Name\",\"Last_Name\",\"Age\",\"City\"]]"
   ]
  },
  {
   "cell_type": "code",
   "execution_count": 113,
   "id": "3110432e-cf4a-4a26-a442-5a45ecfd9afc",
   "metadata": {},
   "outputs": [],
   "source": [
    "#Remove Duplicate:keeps only first row for each employee ID\n",
    "Employees_city_with_o = Employees_city.drop_duplicates(subset = \"ID\") "
   ]
  },
  {
   "cell_type": "code",
   "execution_count": 114,
   "id": "727349cf-c062-4b64-9b3a-b0bd76808ef9",
   "metadata": {},
   "outputs": [
    {
     "name": "stdout",
     "output_type": "stream",
     "text": [
      "     ID  First_Name  Last_Name  Age     City\n",
      "1  A002  Mrs. Alice  Luxumberg   27   London\n",
      "3  A004   Mrs. Nina      Adgra   31  Newyork\n"
     ]
    }
   ],
   "source": [
    "print(Employees_city_with_o)"
   ]
  }
 ],
 "metadata": {
  "kernelspec": {
   "display_name": "Python 3 (ipykernel)",
   "language": "python",
   "name": "python3"
  },
  "language_info": {
   "codemirror_mode": {
    "name": "ipython",
    "version": 3
   },
   "file_extension": ".py",
   "mimetype": "text/x-python",
   "name": "python",
   "nbconvert_exporter": "python",
   "pygments_lexer": "ipython3",
   "version": "3.12.7"
  }
 },
 "nbformat": 4,
 "nbformat_minor": 5
}
